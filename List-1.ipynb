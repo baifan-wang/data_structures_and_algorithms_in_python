{
 "cells": [
  {
   "cell_type": "markdown",
   "metadata": {},
   "source": [
    "# 线性表（1）"
   ]
  },
  {
   "cell_type": "markdown",
   "metadata": {},
   "source": [
    "线性表是最基本、最简单、也是最常用的一种数据结构。线性表中数据元素之间的关系是一对一的关系，即除了第一个和最后一个数据元素之外，其它数据元素都是首尾相接的。线性表的逻辑结构简单，便于实现和操作。因此，线性表这种数据结构在实际应用中是广泛采用的一种数据结构。  \n",
    "线性表表是元素的有穷序列，有0个或多个元素(e, e[1],e[n-1])，n≥0。元素的位置称为其下标，下标从0开始编号（也可选择从1开始）。表中元素的个数称为表的长度，长度为0的表是空表。元素间基本关系是下一个关系: <e[0],e[1]>,<e[1],e[2]>,…,<e[n-2], e[n-1]>，这是一种顺序关系（线性关系）。  \n",
    "线性表具有以下特征:   \n",
    "    1、 有且只有一个首元素和尾元素   \n",
    "    2、 除首元素外，其余元素都有唯一的后继元素。   \n",
    "    3、 除尾元素外，其余元素都有唯一的前驱元素。  \n",
    "线性表的抽象数据类型  \n",
    "\t表数据结构基本的创建和销毁，判断空和满的操作  \n",
    "\t\tnewList(L) #初始化操作，建立一个空的线性表L  \n",
    "\t\tL.empty()  #将线性表L清空  \n",
    "\t\tL.is_empty() #判断线性表L是否为空表，若线性表为空，返回True，否则返回False。  \n",
    "\t\tL.is_full() #判断线性表是否为满了  \n",
    "\t表元素加入操作:   \n",
    "\t\tL.prepend(e) # 在L的表头加入e\n",
    "\t\tL.append(e)# 在L的尾端加入e\n",
    "\t\tL.insert(i,e) #在线性表L中第i个位置插入新元素e  \n",
    "\t表元素删除操作:   \n",
    "\t\tL.delFront(L) # 删除首元素  \n",
    "\t\tL.delEnd(L) # 删除末元素  \n",
    "\t\tL.delete(i) #删除第i个元素  \n",
    "\t\tL.delElem(e)# 删除一个值为e的元素  \n",
    "\t\tL.delAllElem(e)# 删除所有值为e的元素  \n",
    "\t\tL.getElem(i)# 取得位于指定位置（下标）的元素  \n",
    "\t表的其他操作，如:   \n",
    "\t\tL.length() # 求表的长度（表元素的个数）  \n",
    "\t\tL.locate(e)# 查找元素在表中第一个出现的位置，没有时返回特殊值（如-1）  \n",
    "\t\tL.Sort() # 将表中元素进行排序  \n",
    "\n",
    "顺序表的基本实现方式  \n",
    "元素顺序存放在一片足够大的连续存储区里。表中首元素存入存储区开始的位置，其余元素依次顺序存放。通过元素在存储区里的“物理位置”表示元素之间的逻辑顺序关系。存取操作可以在O(1)时间内完成。元素e[i]的地址计算公式（元素编号从0开始）:   \n",
    "        Location(e[i]) = Location(e[0]) + c\i  \n",
    "        其中c是一个元素所占用的存储空间。  \n",
    "        start + cellsize\ index  \n",
    "    顺序表的结构体定义。通过上面用结构体定义顺序表，我们可以看出顺序表的封装需要三个属性:   \n",
    "        1、存储空间的起始位置。数组data的存储位置就是线性表存储空间的存储位置  \n",
    "        2、线性表的最大存储容量。数组长度MAXSIZE  \n",
    "        3、线性表的当前长度。Length    \n",
    "\n",
    "![image](https://raw.githubusercontent.com/baifan-wang/data_structures_and_algorithms_in_python/master/image/1-list-1.png)\n",
    "\n",
    "代码实现"
   ]
  },
  {
   "cell_type": "code",
   "execution_count": 6,
   "metadata": {},
   "outputs": [
    {
     "name": "stdout",
     "output_type": "stream",
     "text": [
      "0 9\n"
     ]
    }
   ],
   "source": [
    "#!/usr/bin/env python3\n",
    "# -*- coding = utf-8 -*-\n",
    "import ctypes\n",
    "\n",
    "class ArrayList:\n",
    "    def __init__(self):\n",
    "        self.n = 0 #列表中的元素个数\n",
    "        self.capacity = 8 # 列表容量\n",
    "        self.A = self._make_array(self.capacity) # 创建初始列表\n",
    "\n",
    "    def __len__(self):\n",
    "        '''返回列表中元素的个数.'''\n",
    "        return self.n\n",
    "\n",
    "    def __getitem__(self, k):\n",
    "        '''返回下标为k的元素'''\n",
    "        if not 0 <= k < self.n:\n",
    "            raise IndexError('invalid index')\n",
    "        return self.A[k]\n",
    "\n",
    "    def append(self, obj):\n",
    "        if self.n == self.capacity:\n",
    "            self._resize(2*self.capacity) # 列表容量不够时，将列表容量扩大两倍\n",
    "        self.A[self.n] = obj\n",
    "        self.n += 1\n",
    "\n",
    "    def _resize(self, c): \n",
    "        '''创建一个容量为c的列表，并将原列表里面的所有元素复制过去.'''\n",
    "        B = self._make_array(c)\n",
    "        for k in range(self.n): \n",
    "            B[k] = self.A[k]\n",
    "        self.A = B # use the bigger array\n",
    "        self.capacity = c\n",
    "\n",
    "    def _make_array(self, c): \n",
    "        '''返回容量为c的列表.'''\n",
    "        return (c*ctypes.py_object)()\n",
    "    \n",
    "L = ArrayList()\n",
    "for i in range(10):\n",
    "    L.append(i)\n",
    "print(L[0], L[9])"
   ]
  },
  {
   "cell_type": "code",
   "execution_count": null,
   "metadata": {
    "collapsed": true
   },
   "outputs": [],
   "source": []
  }
 ],
 "metadata": {
  "kernelspec": {
   "display_name": "Python 3",
   "language": "python",
   "name": "python3"
  },
  "language_info": {
   "codemirror_mode": {
    "name": "ipython",
    "version": 3
   },
   "file_extension": ".py",
   "mimetype": "text/x-python",
   "name": "python",
   "nbconvert_exporter": "python",
   "pygments_lexer": "ipython3",
   "version": "3.6.1"
  }
 },
 "nbformat": 4,
 "nbformat_minor": 2
}
