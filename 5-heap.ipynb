{
 "cells": [
  {
   "cell_type": "markdown",
   "metadata": {},
   "source": [
    "# 优先队列(Priority Queues)\n",
    "\n",
    "优先队列是一种常用的缓存结构，栈和队列类似，可以保存数据元素，访问和弹出元素。其特点是存入优先队列的每项数据附有一个优先级，保证任何时候访问或弹出的总是当时所存元素中最优先的。\n",
    "其基本ADT为：\n",
    "    P.add(k, v): 将键值对加入队列\n",
    "    P.min(): 返回具有最小键值的项目，若队列为空则报错\n",
    "    P.remove_min(): 删除最小键值的项目并返回其值\n",
    "    P.is_empty(): 检查队列是否空\n",
    "    len(P): 队列的大小\n",
    "简单实现：基于线性表技术实现优先队列。使用连续表技术实现优先队列，存在着两种可能的方案： \n",
    "1. 使用排序列表实现，即存入时保证元素按优先顺序排列，任何时候都可以直接取到最优先元素。采用有组织的元素存放方式，取用方便。\n",
    "2. 使用非排序列表实现，即元素直接存到表的尾端，取用时检索最优先元素。用无组织方式存放元素，把选择最优元素的工作推迟到访问/取出时\n",
    "\n",
    "由此可看出，采用第一种方式时，插入元素是O(n) 操作，其他都是O(1) 操作；若采用第二种方式，插入元素是O(1) 操作，但检查和弹出队列首元素都是O(n) 操作。因而，采用线性表实现优先队列，无论怎样实现，在插入与取出元素的操作中，\n",
    "总有一种是线性复杂性操作。\n",
    "\n",
    "# 堆(Heap)\n",
    "\n",
    "堆是一棵完全二叉树，具有以下性质：\n",
    "1. 任意节点小于（或大于）它的所有后裔，最小节点（或最大节点）处于根的位置。\n",
    "2. 堆总是一棵完全树。即除了最底层，其他层的节点都被元素填满，且最底层尽可能地从左到右填入。\n",
    "3. 将根节点最大的堆叫做最大堆或大根堆，根节点最小的堆叫做最小堆或小根堆。常见的堆有二叉堆、斐波那契堆等。\n",
    "根据上面的定义可知，堆中最优先的元素位于堆顶，立即可得（O(1) 时间访问。\n",
    "\n",
    "![iamge](https://raw.githubusercontent.com/baifan-wang/data_structures_and_algorithms_in_python/master/image/5-heap.png)\n",
    "\n",
    "由前面二叉树的定义可知，一棵完全二叉树可以自然而且信息完全地存入一个连续的线性结构（连续表）。因此，一个堆也可以自然地存放在一个连续表里，仅使用下标就能方便地访问树中一个结点的父结点/子结点。对二叉树的根结点从0开始编号， 对于j>0，其父节点的编号是(j-1)//2，若2*j+1<n，其左子节点序号为2*j+1，否则其无左子节点，若2xi+2<n，其右子节点序号为2*j+2，否则其无右子节点。具有n个元素的堆的高度为log2n\n",
    "![image](https://raw.githubusercontent.com/baifan-wang/data_structures_and_algorithms_in_python/master/image/5-heap_1.png)\n",
    "\n",
    "用堆实现优先队列，可直接找到最优先元素，但还需要解决三个问题：\n",
    "1. 加入一个元素，怎样将加入后得到的完全二叉树转变为堆\n",
    "2. 弹出最小元素后，如何将剩下的元素重新做成堆\n",
    "3. 从一堆未排序的数据构建堆\n",
    "\n",
    "实现在堆中正确加入和弹出数据元素的基本操作是筛选，筛选分为向上筛选和向下筛选两种。\n",
    "1. 向上筛选：在堆H 的最后加入一个元素e 后，通过一次向上筛选，使整个完全二叉树重新恢复为一个堆\n",
    "方法：不断用e 与其父结点的数据比较，如果e 较小就交换两个元素的位置。直至e 的父结点的数据小于等于e 时停止\n",
    "在基于堆的优先队列中插入操作的实现：把新加入的元素放在（连续表里）已有的元素之后，执行一次向上筛选操作。    \n",
    "加入元素的操作可以在O(log n) 时间完成（根据二叉树性质）。        \n",
    "下图展示了，加入一个节点(2,T)之后，逐步进行向上筛选，最终将加入的节点移到根的位置。    \n",
    "![image](https://raw.githubusercontent.com/baifan-wang/data_structures_and_algorithms_in_python/master/image/5-heap-2.png)\n",
    "    \n",
    "2. 向下筛选：设两个堆B,C 加根元素e 构成一棵完全二叉树，现在需要把它们做成一个堆，这时做一次向下筛选：\n",
    "方法：用e 与B、C 的顶元素（根）比，最小者作为整个堆的顶。若e 不是最小，最小的必为B（或C）的顶元素。下面就考虑把e 放入\n",
    "去掉堆顶的B（或C）（同样问题但规模更小）。两种情况结束：某次比较中e 最小，以它为顶的局部树成堆了，整个结构也成堆。e 落到底，这时它自身就是一个堆，整个结构也成为堆在这两种情况下，重新构造堆的工作都完成了。\n",
    "优先队列弹出操作的实现：弹出当时堆顶，从堆最后取一个元素放在堆顶，执行一次向下筛选。结论：删除元素是O(log n) 时间操作。    \n",
    "下图展示了，移除根节点，并将最后一个节点移到根节点，然后不断进行向下筛选的过程。\n",
    "\n",
    "![image](https://raw.githubusercontent.com/baifan-wang/data_structures_and_algorithms_in_python/master/image/5-heap-3.png)    \n",
    "\n",
    "3. 从头构建一个堆。从一个列表开始构建堆，以最后一个叶子的父节点作为start（len(list)-1//2)，从start这个位置到列表开头，也就是非叶子的节点，不断进行downheap的操作。\n",
    "堆的抽象数据结构：    \n",
    "parent(j): 返回j的父节点位置，即 j-1//2    \n",
    "left(j): 返回左子节点的位置，即2j+1    \n",
    "right(j): 2j+2    \n",
    "has_left(j): 检测是否有左右节点。比较2j+1是否大于堆的长度。    \n",
    "has_right(j)    \n",
    "swap(i, j): 交换索引i和j的item    \n",
    "upheap(j):对j进行向上排序    \n",
    "downheap(j): 对j进行向下排序    \n",
    "add(k,v): append增加一个(k,v)的Item，对其进行升堆操作    \n",
    "min(): 返回列表的[0]    \n",
    "remove_min(): 删除根节点    \n",
    "heapify():从一个列表开始构建堆。以最后一个叶子的父节点作为start（len(list)-1//2)，从start这个位置到0,递减的序列，也就是非叶子的节点，不断进行downheap的操作。    \n",
    " "
   ]
  },
  {
   "cell_type": "code",
   "execution_count": 1,
   "metadata": {
    "collapsed": true
   },
   "outputs": [],
   "source": [
    "class Heap:\n",
    "\n",
    "    class _Item:\n",
    "        def __init__(self, k, v):\n",
    "            self._key = k\n",
    "            self._value = v\n",
    "\n",
    "        def __lt__(self, other):\n",
    "         return self._key < other._key # compare items based on their keys\n",
    "\n",
    "    def __init__(self, contents = ()):\n",
    "        self._data = [self._Item(k,v) for k,v in contents]\n",
    "        if len(self._data) > 1:\n",
    "            self._heapify()\n",
    "\n",
    "    def is_empty(self): \n",
    "        return len(self) == 0\n",
    "\n",
    "    def _heapify(self):\n",
    "        start = self._parent(len(self._data)-1)\n",
    "        for j in range(start, -1, -1):\n",
    "            self._downheap(j)\n",
    "\n",
    "    def __len__(self):\n",
    "        return len(self._data)\n",
    "\n",
    "    def add(self, key, value):\n",
    "        self._data.append(self._Item(key, value))\n",
    "        self._upheap(len(self._data)-1) \n",
    "\n",
    "    def min(self):\n",
    "        if self.is_empty():\n",
    "            raise Empty('Priority queue is empty')\n",
    "        item = self._data[0]\n",
    "        return (item._key, item._value)\n",
    "\n",
    "    def remove_min(self):\n",
    "        if self.is_empty():\n",
    "            raise Empty('Priority queue is empty')\n",
    "        self._swap(0, len(self._data)-1) #将最后一个元素与第一个调换位置\n",
    "        item = self._data.pop() #弹出最后一个元素\n",
    "        self._downheap(0)  #对第一个元素进行向下排序\n",
    "        return (item._key, item._value)\n",
    "\n",
    "    def _parent(self, j):\n",
    "        return (j-1)//2 #返回j的父节点位置\n",
    "    \n",
    "    def _left(self, j):\n",
    "        return 2*j +1 #返回j的左儿子\n",
    "\n",
    "    def _right(self, j):\n",
    "        return 2*j +2 #返回j的右儿子\n",
    "\n",
    "    def _has_left(self, j):\n",
    "        return self._left(j) < len(self._data)  #如果j的儿子索引超过数组长度，\n",
    "        #说明j肯定没有儿子\n",
    "\n",
    "    def _has_right(self,j):\n",
    "        return self._right(j) < len(self._data)\n",
    "\n",
    "    def _swap(self, i, j):\n",
    "        self._data[i], self._data[j] = self._data[j], self._data[i]\n",
    "\n",
    "    def _upheap(self, j):\n",
    "        parent = self._parent(j)\n",
    "        if j>0 and self._data[j] < self._data[parent]:\n",
    "            self._swap(j, parent)\n",
    "            self._upheap(parent)\n",
    "\n",
    "    def _downheap(self, j):\n",
    "        if self._has_left(j):\n",
    "            left = self._left(j)\n",
    "            small_child = left\n",
    "            if self._has_right(j):\n",
    "                right = self._right(j)\n",
    "                if self._data[right] <self._data[left]:\n",
    "                    small_child = right\n",
    "            if self._data[small_child] < self._data[j]:\n",
    "                self._swap(j, small_child)\n",
    "                self._downheap(small_child)"
   ]
  },
  {
   "cell_type": "code",
   "execution_count": 5,
   "metadata": {},
   "outputs": [
    {
     "data": {
      "text/plain": [
       "(1, 'b')"
      ]
     },
     "execution_count": 5,
     "metadata": {},
     "output_type": "execute_result"
    }
   ],
   "source": [
    "d = [(3, 'a'), (1, 'b'), (9, 'c'), (4,'d')]\n",
    "q = Heap(d)\n",
    "q.min()"
   ]
  },
  {
   "cell_type": "code",
   "execution_count": 6,
   "metadata": {},
   "outputs": [
    {
     "data": {
      "text/plain": [
       "(1, 'b')"
      ]
     },
     "execution_count": 6,
     "metadata": {},
     "output_type": "execute_result"
    }
   ],
   "source": [
    "q.remove_min()"
   ]
  },
  {
   "cell_type": "code",
   "execution_count": 7,
   "metadata": {},
   "outputs": [
    {
     "data": {
      "text/plain": [
       "(3, 'a')"
      ]
     },
     "execution_count": 7,
     "metadata": {},
     "output_type": "execute_result"
    }
   ],
   "source": [
    "q.min()"
   ]
  },
  {
   "cell_type": "markdown",
   "metadata": {},
   "source": [
    "python也提供了一个heapq模块，可以实现优先队列的功能。其主要函数如下：    \n",
    "\n",
    "heappush(L, e): 将元素e加入堆L    \n",
    "heappop(L): 弹出堆L中最小的元素    \n",
    "heappushpop(L, e): 将元素e加入堆L，并弹出其最小值    \n",
    "heapreplace(L, e): 先弹出最小值，再加入e    \n",
    "heapify(L): 将给定列表构建为堆    \n",
    "nlargest(k, iterable):返回可迭代对象中最大的k个值    \n",
    "nsmallest(k, iterable):    \n",
    "\n",
    "参考文献:\n",
    "1. Goodrich M T, Tamassia R, Goldwasser M H. Data structures and algorithms in Python[M]. John Wiley & Sons Ltd, 2013.\n",
    "2. 裘宗燕. 数据结构与算法: Python语言描述. 机械工业出版社, 2016.\n",
    "3. https://en.wikipedia.org/wiki/Heap_(data_structure)"
   ]
  }
 ],
 "metadata": {
  "kernelspec": {
   "display_name": "Python 3",
   "language": "python",
   "name": "python3"
  },
  "language_info": {
   "codemirror_mode": {
    "name": "ipython",
    "version": 3
   },
   "file_extension": ".py",
   "mimetype": "text/x-python",
   "name": "python",
   "nbconvert_exporter": "python",
   "pygments_lexer": "ipython3",
   "version": "3.6.1"
  }
 },
 "nbformat": 4,
 "nbformat_minor": 2
}
