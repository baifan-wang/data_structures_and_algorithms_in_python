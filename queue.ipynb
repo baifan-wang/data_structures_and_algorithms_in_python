{
 "cells": [
  {
   "cell_type": "markdown",
   "metadata": {},
   "source": [
    "# 队列（queue）\n",
    "队列(queue)是一种常见的数据结构。队列也是有序的元素集合。队列最大的特征是First In, First Out (FIFO，先进先出)，即先进入队列的元素，先被取出。队列是生活中很常见的现象，在排队时，先到先得，晚来的排到队列后面。\n",
    "![image](https://raw.githubusercontent.com/baifan-wang/data_structures_and_algorithms_in_python/master/image/3-Queue.svg.png)\n",
    "队列的基本操作也是一个封闭集合，通常包括：    \n",
    "1. 创建空队列\n",
    "2. 判断队列是否为空（还可能需要判断满）\n",
    "3. 将一个元素放入队列（称为入队，enqueue）\n",
    "4. 从队列中删除（称为出队，dequeue）一个元素\n",
    "5. 取当前（最老的）元素的值（并不删除）\n",
    "\n",
    "队列可以使用线性表的技术来实现，就是利用元素位置的顺序关系表示入队时间的先后关系。先进先出需要在表的两端操作。用链表来实现时，应该考虑带尾指针的链表，这样可以在尾部入队，前部出对，这样入队和出队操作都能在O(1)时间完成。直接采用前面所定义的单链表，只需修改操作名，把append改为enqueue，pop改为dequeue即可。    \n",
    "也可以使用顺序表来实现队列。然而对于顺序表，在前端操作（删除，插入）都需要使用O(n)时间。因此人们提出的一种称为“环形队列”的技术，来解决这个问题。环列队列并非是一个真正的环形结构，而是将列表元素L[0]与L[-1]连接，形成一个存放队列的环形空间。    \n",
    "tail: 最后元素之后空位的下标    \n",
    "head: 首元素的下标    \n",
    "![image](https://raw.githubusercontent.com/baifan-wang/data_structures_and_algorithms_in_python/master/image/3-Queue-circle.png)\n",
    "具体实现：    \n",
    "设置一个固定大小的list，先用None填充。用一个head指针来标明队列中第一个元素（实际位置上并不一定是第一个） 。除去第一个的话，接下来新的head就是(head + 1) % len(data)。队列里的空位就是avail = (head + size) % len(data)。data指列表长度，size指列表实际元素个数。"
   ]
  },
  {
   "cell_type": "code",
   "execution_count": 2,
   "metadata": {
    "collapsed": true
   },
   "outputs": [],
   "source": [
    "class ArrayQueue:\n",
    "\n",
    "    DEAFULT_CAPACITY = 10  #队列默认10个元素\n",
    "\n",
    "    def __init__(self):\n",
    "        self._data = [None] * ArrayQueue.DEAFULT_CAPACITY\n",
    "        self._size = 0\n",
    "        self._head = 0\n",
    "\n",
    "    def __len__(self):\n",
    "        return self._size\n",
    "\n",
    "    def is_empty(self):\n",
    "        return self._siez == 0\n",
    "\n",
    "    def first(self):\n",
    "        if self.is_empty():\n",
    "            raise Empty('Queue is empty!')\n",
    "        anwser = self._data[self._head]\n",
    "        self._data[self._head] = None\n",
    "        self._head = (self._head +1) % len(self._data)\n",
    "        self._size -= 1\n",
    "        return anwser\n",
    "\n",
    "    def enquenue(self, e):\n",
    "        if self._size == len(self._data):\n",
    "            self._resize(2 * len(self._data))\n",
    "        avail = (self._head + self._size) % len(self._data)  #self._head+self._size 就是原先所有元素\n",
    "        self._data[avail] = e\n",
    "        self._size += 1\n",
    "\n",
    "    def _resize(self, cap):\n",
    "        old = self._data\n",
    "        self._data = [None]*cap\n",
    "        walk = self._head\n",
    "        for k in range(self._size):\n",
    "            self._data[k] = old[walk]\n",
    "            walk = (1+walk) % len(old)\n",
    "        self._head = 0"
   ]
  },
  {
   "cell_type": "markdown",
   "metadata": {},
   "source": [
    "# 双端队列(deque, Double-Ended Queues)\n",
    "\n",
    "双端队列即是允许两端插入和弹出元素的队列。双端队列可以使用节点包含前向和后向引用的双链表来实现两端插入，删除和访问以O(1)复杂度的操作。Python标准库collections中包含有Deque模块，它提供了两端都可以操作的序列。\n",
    "创建Deque序列:"
   ]
  },
  {
   "cell_type": "code",
   "execution_count": 4,
   "metadata": {},
   "outputs": [
    {
     "name": "stdout",
     "output_type": "stream",
     "text": [
      "deque([0, 1, 2, 3, 4, 5, 6, 7, 8, 9])\n"
     ]
    }
   ],
   "source": [
    "from collections import deque\n",
    "d = deque()\n",
    "for i in range(10):\n",
    "    d.append(i)\n",
    "print(d)"
   ]
  },
  {
   "cell_type": "markdown",
   "metadata": {},
   "source": [
    "deque的一些操作：    \n",
    "len(D)：元素个数    \n",
    "D.appendleft( ) ：开头加入元素    \n",
    "D.append()：尾端添加元素       \n",
    "D.popleft( )：从开头弹出元素    \n",
    "D.pop() ：弹出最后一个元素     \n",
    "D[0]：第一个元素    \n",
    "D[−1] ：最后一个元素    \n",
    "D[j] ：返回下标为j的元素    \n",
    "D[j] = val：将下标为j的元素值设为val    \n",
    "D.clear( ) ：删除所有元素    \n",
    "D.rotate(k)：将列表网右手方向移动k步    \n",
    "D.remove(e)：删除第一个值为e的元素    \n",
    "D.count(e)：计算值为e的元素个数    \n",
    "\n",
    "deque 创建可以有两个（带默认值的）参数deque([iter [,maxlen])    \n",
    " iter 可为任何可迭代对象，其值将作为deque 里元素序列    \n",
    "maxlen 为deque 指定最大元素个数，默认为不限，自动增长    "
   ]
  }
 ],
 "metadata": {
  "kernelspec": {
   "display_name": "Python 3",
   "language": "python",
   "name": "python3"
  },
  "language_info": {
   "codemirror_mode": {
    "name": "ipython",
    "version": 3
   },
   "file_extension": ".py",
   "mimetype": "text/x-python",
   "name": "python",
   "nbconvert_exporter": "python",
   "pygments_lexer": "ipython3",
   "version": "3.6.1"
  }
 },
 "nbformat": 4,
 "nbformat_minor": 2
}
