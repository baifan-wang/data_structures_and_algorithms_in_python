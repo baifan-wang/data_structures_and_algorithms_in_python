{
 "cells": [
  {
   "cell_type": "markdown",
   "metadata": {},
   "source": [
    "# 排序算法\n",
    "    排序算法是一种能将一串数据依照特定排序方式进行排列的一种算法。最常用到的排序方式是数值顺序以及字典顺序。基本上，排序算法的输出必须遵守下列两个原则：\n",
    "    1. 输出结果为递增序列（递增是针对所需的排序顺序而言）\n",
    "    2. 输出结果是原输入的一种排列、或是重组\n",
    "    排序算法的几个主要特征：\n",
    "    1. 计算的时间复杂度（最差、平均、和最好性能），依据列表（list）的大小(n)。一般而言，好的性能是O(n log n)，且坏的性能是O(n2)。对于一个排序理想的性能是O(n)。仅使用一个抽象关键比较运算的排序算法总平均上总是至少需要O(n log n)。\n",
    "    2. 内存使用量（以及其他电脑资源的使用）\n",
    "    3. 稳定性：稳定排序算法会让原本有相等键值的纪录维持相对次序。也就是如果一个排序算法是稳定的，当有两个相等键值的纪录R和S，且在原本的列表中R出现在S之前，在排序过的列表中R也将会是在S之前。\n",
    "## 冒泡排序 (Bubble Sort)\n",
    "    对于一个已经排序好的序列，它的任意两个相邻元素，都应该满足a[i-1] <= a[i]的关系。在冒泡排序时，计算机从右向左遍历数组，比较相邻的两个元素。如果两个元素的顺序是错的，就交换相邻元素的值。如果两个元素的顺序是正确的，则不做交换。经过一次遍历，我们可以保证最小的元素处于最左边的位置。遍历一次并不能保证所有的元素已经按照次序排列好。这时候需要再次从右向左遍历数组元素，再次进行排序。这一次遍历，只需考虑列表中1-n个元素，因为第0个元素已经是最小的元素。遍历结束后，继续重复扫描。如果某次遍历过程中，没有发生交换，那么这个序列已经好排序，可以中止排序。这样的过程中，序列中最小的元素会慢慢地从地步浮到序列顶端，好像气泡从水底慢慢浮上来一样，因此被称为冒泡排序冒泡排序对 n个项目需要O( n**2)的比较次数，且可以原地排序。"
   ]
  },
  {
   "cell_type": "code",
   "execution_count": 2,
   "metadata": {
    "collapsed": true
   },
   "outputs": [],
   "source": [
    "def bubble_sort(L):\n",
    "    n = len(L)\n",
    "    if n == 1: \n",
    "        return L\n",
    "    for j in range(n-1, 0, -1):\n",
    "        flag = True\n",
    "        for i in range(0, j):\n",
    "            if L[i] > L[i+1]:\n",
    "                flag = False\n",
    "                L[i], L[i+1] = L[i+1], L[i]\n",
    "        if flag:\n",
    "            return L\n",
    "    return L"
   ]
  },
  {
   "cell_type": "markdown",
   "metadata": {},
   "source": [
    "## 插入排序(Insertion Sort)\n",
    "    插入排序的原理是通过构建有序序列，对于未排序数据，在已排序序列中从后向前扫描，找到相应位置并插入。插入排序在实现上，通常采用原位排序（即只需用到O(1)的额外空间的排序），因而在从后向前扫描过程中，需要反复把已排序元素逐步向后挪位，为最新元素提供插入空间。\n",
    "    具体算法描述如下：\n",
    "    1. 从第一个元素开始，该元素可以认为已经被排序\n",
    "    2. 取出下一个元素，在已经排序的元素序列中从后向前扫描\n",
    "    3. 如果该元素（已排序）大于新元素，将该元素移到下一位置\n",
    "    4. 重复步骤3，直到找到已排序的元素小于或者等于新元素的位置\n",
    "    5. 将新元素插入到该位置后\n",
    "    6. 重复步骤2~5\n",
    "    如果比较操作的代价比交换操作大的话，可以采用二分查找法来减少比较操作的数目。该算法可以认为是插入排序的一个变种，称为二分查找插入排序。"
   ]
  },
  {
   "cell_type": "code",
   "execution_count": 3,
   "metadata": {},
   "outputs": [],
   "source": [
    "def insert_sort(L):\n",
    "    n = len(L)\n",
    "    if n == 1: \n",
    "        return L\n",
    "    for i in range(1, n):\n",
    "        pivot = L[i]\n",
    "        j = i - 1\n",
    "        while j >= 0 and pivot < L[j]:\n",
    "            L[j+1] = L[j]\n",
    "            j -= 1\n",
    "        L[j+1] = pivot\n",
    "    return L"
   ]
  },
  {
   "cell_type": "markdown",
   "metadata": {
    "collapsed": true
   },
   "source": [
    "## 希尔排序(Shell Sort)\n",
    "    希尔排序，也称递减增量排序算法，是插入排序的一种更高效的改进版本。希尔排序是非稳定排序算法。\n",
    "    希尔排序是基于插入排序的以下两点性质而提出改进方法的：\n",
    "    插入排序在对几乎已经排好序的数据操作时，效率高，即可以达到线性排序的效率\n",
    "    但插入排序一般来说是低效的，因为插入排序每次只能将数据移动一位\n",
    "    我们在冒泡排序中提到，最坏的情况发生在大的元素位于数组的起始。这些位于数组起始的大元素需要多次遍历，才能交换到队尾。这样的元素被称为乌龟(turtle)。乌龟元素的原因在于，冒泡排序总是相邻的两个元素比较并交换。所以每次从右向左遍历，大元素只能向右移动一位。(小的元素位于队尾，被称为兔子(rabbit)元素，它们可以很快的交换到队首。)\n",
    "    希尔排序是以更大的间隔来比较和交换元素，这样，大的元素在交换的时候，可以向右移动不止一个位置，从而更快的移动乌龟元素。比如，可以将数组分为4个子数组（i=4k, i=4k+1, i=4k+2, i=4k+3），对每个子数组进行冒泡排序。比如子数组i=0，4，8，12...。此时，每次交换的间隔为4。\n",
    "    完成对四个子数组的排序后，数组的顺序并不一定能排列好。希尔排序会不断减小间隔，重新形成子数组，并对子数组冒泡排序…… 当间隔减小为1时，就相当于对整个数组进行了一次冒泡排序。随后，数组的顺序就排列好了。希尔排序不止可以配合冒泡排序，还可以配合其他的排序方法完成。Shell Sorting依赖于间隔(step)的选取。一个常见的选择是将本次间隔设置为上次间隔的1/1.3。"
   ]
  },
  {
   "cell_type": "code",
   "execution_count": 4,
   "metadata": {
    "collapsed": true
   },
   "outputs": [],
   "source": [
    "def shell_sort(L):\n",
    "    n = len(L)\n",
    "    gap = n / 2\n",
    "    while gap > 0:\n",
    "        for i in range(gap, n):\n",
    "            temp = L[i]\n",
    "            j = i\n",
    "            while j >= gap and L[j - gap] > temp:\n",
    "                L[j] = L[j - gap]\n",
    "                j -= gap\n",
    "            L[j] = temp\n",
    "        gap = gap / 2\n",
    "    return L"
   ]
  },
  {
   "cell_type": "markdown",
   "metadata": {},
   "source": [
    "## 快速排序(Quicksort)\n",
    "    又称划分交换排序（partition-exchange sort），一种排序算法，最早由东尼·霍尔提出。在平均状况下，排序n个项目要Ο(n log n)次比较。在最坏状况下则需要Ο(n2)次比较，但这种状况并不常见。事实上，快速排序通常明显比其他Ο(n log n)算法更快，因为它的内部循环（inner loop）可以在大部分的架构上很有效率地被实现出来。\n",
    "    快速排序使用分治法（Divide and conquer）策略来把一个序列（list）分为两个子序列（sub-lists）。\n",
    "    步骤为：\n",
    "    从数列中挑出一个元素，称为\"基准\"（pivot），\n",
    "    重新排序数列，所有比基准值小的元素摆放在基准前面，所有比基准值大的元素摆在基准后面（相同的数可以到任一边）。在这个分区结束之后，该基准就处于数列的中间位置。这个称为分区（partition）操作。\n",
    "    递归地（recursively）把小于基准值元素的子数列和大于基准值元素的子数列排序。\n",
    "    递归到最底部时，数列的大小是零或一，也就是已经排序好了。这个算法一定会结束，因为在每次的迭代（iteration）中，它至少会把一个元素摆到它最后的位置去。"
   ]
  },
  {
   "cell_type": "code",
   "execution_count": 5,
   "metadata": {
    "collapsed": true
   },
   "outputs": [],
   "source": [
    "def quicksort(L):\n",
    "     if len(L) <= 1:\n",
    "         return L\n",
    "     return quicksort([x for x in L[1:] if x < L[0]])\n",
    "     return[L[0]]\n",
    "     quicksort([x for x in L[1:] if x > L[0]])"
   ]
  },
  {
   "cell_type": "markdown",
   "metadata": {},
   "source": [
    "## 归并排序(Merge sort)\n",
    "    归并排序是创建在归并操作上的一种有效的排序算法，效率为O(n*log n)。1945年由约翰·冯·诺伊曼首次提出。该算法是采用分治法（Divide and Conquer）的一个非常典型的应用，且各层分治递归可以同时进行。\n",
    "\n",
    "    归并操作（merge），也叫归并算法，指的是将两个已经排序的序列合并成一个序列的操作。归并排序算法依赖归并操作。\n",
    "    1. 迭代法\n",
    "    申请空间，使其大小为两个已经排序序列之和，该空间用来存放合并后的序列\n",
    "    设定两个指针，最初位置分别为两个已经排序序列的起始位置\n",
    "    比较两个指针所指向的元素，选择相对小的元素放入到合并空间，并移动指针到下一位置\n",
    "    重复步骤3直到某一指针到达序列尾\n",
    "    将另一序列剩下的所有元素直接复制到合并序列尾\n",
    "    2. 递归法\n",
    "    原理如下（假设序列共有n个元素）：\n",
    "    将序列每相邻两个数字进行归并操作，形成 n/2个序列，排序后每个序列包含两个元素\n",
    "    将上述序列再次归并，形成 n/4个序列，每个序列包含四个元素重复步骤2，直到所有元素排序完毕"
   ]
  },
  {
   "cell_type": "code",
   "execution_count": 6,
   "metadata": {
    "collapsed": true
   },
   "outputs": [],
   "source": [
    "def merge_sort(L):\n",
    "    def merge(L1, L2, L):\n",
    "        i = j = 0\n",
    "        while i+j <len(L):\n",
    "            if j == len(L2) or (i < len(L1) and L1[i] < L2[j]):\n",
    "                L[i+j] = L1[i]\n",
    "                i += 1\n",
    "            else:\n",
    "                L[i+j] = L2[j]\n",
    "                j += 1\n",
    "    def _merge_sort(L):\n",
    "        n = len(L)\n",
    "        if n < 2:\n",
    "            return\n",
    "        mid = n // 2\n",
    "        L1 = L[0:mid]\n",
    "        L2 = L[mid:n]\n",
    "        _merge_sort(L1)\n",
    "        _merge_sort(L2)\n",
    "        merge(L1, L2, L)\n",
    "    return L"
   ]
  },
  {
   "cell_type": "markdown",
   "metadata": {},
   "source": [
    "## 堆排序(Heap sort)\n",
    "    堆排序是指利用堆这种数据结构所设计的一种排序算法。堆积是一个近似完全二叉树的结构，并同时满足堆积的性质：即子结点的键值或索引总是小于（或者大于）它的父节点。\n",
    "\n",
    "    堆通常是通过一维数组来实现的。在数组起始位置为0的情形中：\n",
    "        父节点i的左子节点在位置(2*i+1);\n",
    "        父节点i的右子节点在位置(2*i+2);\n",
    "        子节点i的父节点在位置floor((i-1)/2);\n",
    "\n",
    "    在堆的数据结构中，堆中的最大值总是位于根节点(在优先队列中使用堆的话堆中的最小值位于根节点)。堆中定义以下几种操作：\n",
    "    最大堆调整（Max_Heapify）：将堆的末端子节点作调整，使得子节点永远小于父节点\n",
    "    创建最大堆（Build_Max_Heap）：将堆所有数据重新排序\n",
    "    堆排序（HeapSort）：移除位在第一个数据的根节点，并做最大堆调整的递归运算"
   ]
  },
  {
   "cell_type": "code",
   "execution_count": null,
   "metadata": {
    "collapsed": true
   },
   "outputs": [],
   "source": [
    "def heap_sort(L):\n",
    "    def sift_down(start, end):\n",
    "        root = start\n",
    "        while True:\n",
    "            child = 2 * root + 1\n",
    "            if child > end:\n",
    "                break\n",
    "            if child + 1 <= end and L[child] < L[child + 1]:\n",
    "                child += 1\n",
    "            if L[root] < L[child]:\n",
    "                L[root], L[child] = L[child], L[root]\n",
    "                root = child\n",
    "            else:\n",
    "                break\n",
    "    for start in range((len(L) - 2) // 2, -1, -1):\n",
    "        sift_down(start, len(L) - 1)\n",
    "    for end in range(len(L) - 1, 0, -1):\n",
    "        L[0], L[end] = L[end], L[0]\n",
    "        sift_down(0, end - 1)\n",
    "    return L"
   ]
  },
  {
   "cell_type": "markdown",
   "metadata": {},
   "source": [
    "参考文献:\n",
    "1. Goodrich M T, Tamassia R, Goldwasser M H. Data structures and algorithms in Python[M]. John Wiley & Sons Ltd, 2013.\n",
    "2. 裘宗燕. 数据结构与算法: Python语言描述. 机械工业出版社, 2016.\n",
    "3. https://zh.wikipedia.org/wiki/%E6%8E%92%E5%BA%8F%E7%AE%97%E6%B3%95"
   ]
  }
 ],
 "metadata": {
  "kernelspec": {
   "display_name": "Python 3",
   "language": "python",
   "name": "python3"
  },
  "language_info": {
   "codemirror_mode": {
    "name": "ipython",
    "version": 3
   },
   "file_extension": ".py",
   "mimetype": "text/x-python",
   "name": "python",
   "nbconvert_exporter": "python",
   "pygments_lexer": "ipython3",
   "version": "3.6.1"
  }
 },
 "nbformat": 4,
 "nbformat_minor": 2
}
