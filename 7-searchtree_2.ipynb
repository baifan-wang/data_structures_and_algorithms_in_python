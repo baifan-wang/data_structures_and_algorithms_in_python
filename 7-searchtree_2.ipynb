{
 "cells": [
  {
   "cell_type": "markdown",
   "metadata": {},
   "source": [
    "# AVL树\n",
    "    \n",
    "    平衡二叉树在进行插入操作的时候可能出现不平衡的情况，AVL树即是一种自平衡的二叉树，它通过旋转不平衡的节点来使二叉树重新保持平衡，并且查找、插入和删除操作在平均和最坏情况下时间复杂度都是O(log n)。AVL树是根据它的发明者G. M. Adelson-Velskii和E. M. Landis命名的。它是一种特殊的二叉搜索树。AVL树要求: 任一节点的左子树深度和右子树深度相差不超过1。节点的平衡因子是它的左子树的高度减去它的右子树的高度（有时相反）。带有平衡因子1、0或 -1的节点被认为是平衡的。带有平衡因子 -2或2的节点被认为是不平衡的，并需要重新平衡这个树。平衡因子可以直接存储在每个节点中，或从可能存储在节点中的子树高度计算出来。    \n",
    "\n",
    "搜索    \n",
    "可以像普通二叉查找树一样的进行查找，所以耗费O(log n)时间，因为AVL树总是保持平衡的。不需要特殊的准备，树的结构不会由于查找而改变。（这是与伸展树搜寻相对立的，它会因为搜寻而变更树结构。）    \n",
    "\n",
    "    AVL树的基本操作一般涉及运作同在不平衡的二叉查找树所运作的同样的算法。但是要进行预先或随后做一次或多次所谓的\"AVL旋转\"。AVL树的旋转一共有四种情形，注意所有旋转情况都是围绕着使得二叉树不平衡的第一个节点展开的。    \n",
    "\n",
    "    右右型：平衡二叉树某一节点的右孩子的右子树上插入一个新的节点，使得该节点不再平衡。这时只需要把树向左旋转一次即可，如图所示，原A右孩子B变为父结点，A变为其左孩子，而原B的左子树T2将变为A的右子树。    \n",
    "\n",
    "![image](https://raw.githubusercontent.com/baifan-wang/data_structures_and_algorithms_in_python/master/image/7-searchtree_avl1.png)    \n",
    "\n",
    "    左左型：平衡二叉树某一节点的左孩子的左子树上插入一个新的节点，使得该节点不再平衡。这时只需要把树向右旋转一次即可，如图所示，原C的左孩子B变为父结点，A变为其右孩子，而原B的右子树T3变为C的左子树。    \n",
    "\n",
    "\n",
    "    右左型：平衡二叉树某一节点的右孩子的左子树上插入一个新的节点，使得该节点不再平衡。同样，这时需要旋转两次，旋转方向刚好同左右型相反。        \n",
    "![image](https://raw.githubusercontent.com/baifan-wang/data_structures_and_algorithms_in_python/master/image/7-searchtree_avl2.png)        \n",
    "\n",
    "    左右型：平衡二叉树某一节点的左孩子的右子树上插入一个新的节点，使得该节点不再平衡。这时需要旋转两次，仅一次的旋转是不能够使二叉树再次平衡。如图所示，在B节点按照RR型向左旋转一次之后，二叉树在A节点仍然不能保持平衡，这时还需要再向右旋转一次。这时候B的两棵子树分别过继给A和C。    \n",
    "    \n",
    "![image](https://raw.githubusercontent.com/baifan-wang/data_structures_and_algorithms_in_python/master/image/7-searchtree_avl3.png)    \n",
    "\n",
    "删除    \n",
    "        从AVL树中删除，可以通过把要删除的节点向下旋转成一个叶子节点，接着直接移除这个叶子节点来完成。因为在旋转成叶子节点期间最多有log n个节点被旋转，而每次AVL旋转耗费固定的时间，所以删除处理在整体上耗费O(log n) 时间。    \n",
    "![image](https://raw.githubusercontent.com/baifan-wang/data_structures_and_algorithms_in_python/master/image/7-searchtree_avl4.png)\n",
    " \n",
    "由上面的说明可以看出，所谓的“旋转”，实际上涉及节点之间的重新连接于节点之间父子关系的重置。上面的“旋转‘操作可由下面的代码实现："
   ]
  },
  {
   "cell_type": "code",
   "execution_count": 3,
   "metadata": {},
   "outputs": [],
   "source": [
    "class AVLtree():\n",
    "    def relink(self, parent, child, make_left_child):  #重新设置父子关系\n",
    "        if make_left_child: # 将child设置为左儿子\n",
    "            parent.left = child\n",
    "        else: \n",
    "            parent.right = child #否则设置为右儿子\n",
    "        if child is not None: # 设置子节点的父链接\n",
    "            child.parent = parent\n",
    "\n",
    "    def rotate(self, p):  #旋转节点p，使其位于其父节点上方。\n",
    "        x = p\n",
    "        y = x.parent # y是x的父亲\n",
    "        z = y.parent # z是x的祖父\n",
    "        if z is None:\n",
    "            self.root = x #z是None的话，y就是root，这时候旋转将将x提升为root\n",
    "            x.parent = None #\n",
    "        else:\n",
    "            self. relink(z, x, y == z.left) # 使用y == z.left来判断是左左还是右右的情形。将x提升为z的儿子\n",
    "            # now rotate x and y, including transfer of middle subtree\n",
    "            if x == y.left:  #旋转x和y，并转移处于中间位置的子树\n",
    "                self.relink(y, x.right, True) # x的右子树成为y的左子树\n",
    "                self.relink(x, y, False) # y成为x的右儿子\n",
    "            else:\n",
    "                self.relink(y, x.left, False) #x的左子树成为y的右子树\n",
    "                self.relink(x, y, True) # y成为x的左儿子\n",
    "    def restructure(self, x): #对x位置以及他的父亲和祖父进行三节点重建\n",
    "        y = self.parent(x)\n",
    "        z = self.parent(y)\n",
    "        if (x == self.right(y)) == (y == self.right(z)): # 判断是左左型，右右型还是左右型，右左型\n",
    "            self.rotate(y) # 左左型，右右型只需要旋转y\n",
    "            return y # y就是新的子树根节点\n",
    "        else: # \n",
    "            self.rotate(x) # 左右型，右左型需要对x进行双旋转\n",
    "            self.rotate(x)\n",
    "            return x # x 就是新的子树根节点\n"
   ]
  },
  {
   "cell_type": "markdown",
   "metadata": {},
   "source": [
    "参考文献:\n",
    "1. Goodrich M T, Tamassia R, Goldwasser M H. Data structures and algorithms in Python[M]. John Wiley & Sons Ltd, 2013.\n",
    "2. 裘宗燕. 数据结构与算法: Python语言描述. 机械工业出版社, 2016.\n",
    "3. https://zh.wikipedia.org/wiki/AVL%E6%A0%91"
   ]
  }
 ],
 "metadata": {
  "kernelspec": {
   "display_name": "Python 3",
   "language": "python",
   "name": "python3"
  },
  "language_info": {
   "codemirror_mode": {
    "name": "ipython",
    "version": 3
   },
   "file_extension": ".py",
   "mimetype": "text/x-python",
   "name": "python",
   "nbconvert_exporter": "python",
   "pygments_lexer": "ipython3",
   "version": "3.6.1"
  }
 },
 "nbformat": 4,
 "nbformat_minor": 2
}
