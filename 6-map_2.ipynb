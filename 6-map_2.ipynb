{
 "cells": [
  {
   "cell_type": "markdown",
   "metadata": {},
   "source": [
    "# 集合(set)\n",
    "集合也是通过hash表来实现的一种数据类型。set和dict类似，也是一组key的集合，但不存储value。由于key不能重复，所以，在set中，没有重复的key。在Python中，集合是基本数据类型的一种集合类型，它有可变集合(set())和不可变集合(frozenset)两种。set可以看成数学意义上的无序和无重复元素的集合，因此，两个set可以做数学意义上的交集、并集等操作。\n",
    "集合（set，S）的抽象数据类型ADT:\n",
    "    基础类型:     \n",
    "        S.add(e): 增加一个元素到集合S。如果集合中已经有了该元素，则无效。    \n",
    "        S.discard(e): 将一个元素从集合中删除    \n",
    "        e in S: 成员测试。在python中采用__contains__运算符重载的方法来实现     \n",
    "        len(S): 集合的大小。__len__方法。     \n",
    "        iter(S): 返回迭代器 __iter__方法。      \n",
    "    衍生类型:     \n",
    "        S.remove(e): 从集合中删除元素e。        \n",
    "        S.pop(): 从集合中删除任意一个元素。    \n",
    "        S.clear( ): 删除所有元素。      \n",
    "        S == T: 检查集合S和T是否具有相同的元素。    \n",
    "        S != T: 如果S和T不等价，则返回True。    \n",
    "        S <= T: 检查S是否是T的子集。\n",
    "        S < T: 检查S是否是T的真子集。    \n",
    "        S >= T: 检查S是否为T的父集。    \n",
    "        S > T: 。    \n",
    "        S.isdisjoint(T): 检查S和T是否没有共同的元素。。    \n",
    "        S | T: 返回S和T的并集。    \n",
    "        S |= T: 将T并入S。    \n",
    "        S & T: 返回S和T的交集。    \n",
    "        S &= T: 将S变成S和T的交集。    \n",
    "        S ˆ T: 返回S与T对称差的集合。    \n",
    "        S ˆ= T: 将S变成S与T的堆成差集。    \n",
    "        S − T: 返回包含有S中但不在T中的元素的集合。\n",
    "        S −= T: 从S中删除S与T的交集元素。\n"
   ]
  }
 ],
 "metadata": {
  "kernelspec": {
   "display_name": "Python 3",
   "language": "python",
   "name": "python3"
  },
  "language_info": {
   "codemirror_mode": {
    "name": "ipython",
    "version": 3
   },
   "file_extension": ".py",
   "mimetype": "text/x-python",
   "name": "python",
   "nbconvert_exporter": "python",
   "pygments_lexer": "ipython3",
   "version": "3.6.1"
  }
 },
 "nbformat": 4,
 "nbformat_minor": 2
}
