{
 "cells": [
  {
   "cell_type": "markdown",
   "metadata": {},
   "source": [
    "# 二叉树(Binary tree)\n",
    "\n",
    "二叉树（英语：Binary tree）是每个节点最多只有两个分支(不存在分支度大于2的节点)的树结构。通常分支被称作“左子树”和“右子树”。二叉树的分支具有左右次序，不能颠倒。\n",
    "![image](https://raw.githubusercontent.com/baifan-wang/data_structures_and_algorithms_in_python/master/image/4-Binary_tree.svg.png)\n",
    "二叉树具有五种基本形态： 1.空二叉树。 2.只有一个根结点。 3.根结点只有左子树。 4.根结点只有右子树。 5.根结点既有左子树又有右子树。\n",
    "\n",
    "特殊二叉树 \n",
    "斜树：所有的结点都只有左子树的二叉树叫左斜树，所有结点都是只有右子树的二叉树叫右斜树。这两者统称为斜树。斜树有很明显的特点，就是每一层都只有一个结点，结点的个数与二叉树的深度相同。 \n",
    "满二叉树:在一棵二叉树中，如果所有分支结点都存在左子树和右子树，并且所有叶子都在同一层上，这样的二叉树称为满二叉树。\n",
    "完全二叉树:对一棵具有n个结点的二叉树按层序编号，如果编号为i（1≤i≤n）的结点与同样深度的满二叉树中编号为i的结点在二叉树中位置完全相同，则这棵二叉树称为完全二叉树。完全二叉树的特点：\n",
    "\n",
    "叶子结点只能出现在最下两层；\n",
    "最下层的叶子一定集中在左部连续位置；\n",
    "倒数二层，若有叶子结点，一定都在右部连续位置；\n",
    "如果结点度为1，则该结点只有左孩子，即不存在只有右子树的情况；\n",
    "同样结点数的二叉树，完全二叉树的深度最小。\n",
    "\n",
    "二叉树的性质：\n",
    "1. 非空二叉树第i 层上至多有2i 个结点（i ≥ 0）\n",
    "2. 高度为k 的二叉树至多有2k-1 个结点（k ≥ 0）\n",
    "3. 对任何非空二叉树T，若其叶结点个数为n0，度数为2 的结点个数为n2，则n0 = n2 + 1\n",
    "4. n 个结点的完全二叉树的高度k =log2(n+1)\n",
    "5. 满二叉树里的叶结点比分支结点多一个\n",
    "6. 对于完全二叉树，如果n 个结点的完全二叉树按层次按从左到右的顺序从0 开始编号，对任一结点i（0 ≤ i ≤ n-1) 都有：\n",
    "序号0 的结点是根；对于i > 0，其父结点是(i - 1)//2; 若2 * i + 1 ≤ n，其左子结点序号为2 * i + 1；否则它无左子结点\n",
    "若2 * i + 2 ≤ n，其右子结点序号为2 * i + 2；否则它无右子结点。    \n",
    "\n",
    "![image](https://raw.githubusercontent.com/baifan-wang/data_structures_and_algorithms_in_python/master/image/4-Binary_tree.level.png)\n",
    "\n",
    "二叉树除了具有树的ADT类型之外，还具有以下的ADT：\n",
    "T.left(p): 返回节点p的左子节点    \n",
    "T.right(p): 返回节点p的右子节点    \n",
    "T.sibling(p): 返回节点p的兄弟节点    \n",
    "T.add_root(e): 为空树添加root的节点。\n",
    "T.add_left(p, e):     \n",
    "T.add_right(p, e): 为位置p添加左右儿子。    \n",
    "T.replace(p, e): 将位置p的元素替换为e，并返回原先的元素值    \n",
    "T.delete(p): 删除位置p的节点，用他的独子代替，并返回其元素值。如果p有两个儿子，则报错。 将节点的父链接指向自己\n",
    "T.attach(p, T1, T2): 将T1和T2两棵树接到p的左右儿子位置，必须保证p为叶子。    \n",
    "T.position(): 返回所有节点的位置。依赖于树的遍历算法。    \n",
    "\n",
    "\n",
    "二叉树的实现方式:\n",
    "1. 顺序存储结构\n",
    "\n",
    "二叉树的顺序存储结构就是用一维数组存储二叉树中的结点，并且结点的存储位置，也就是数组的下标要能体现结点之间的逻辑关系，比如双亲与孩子的关系，左右兄弟的关系等。 如下图基于顺序表构建了一个表达式树，可以根据性质6来获取父子节点之间的关系。（空的子树或叶子可以用None在列表中占位）。\n",
    "![image](https://raw.githubusercontent.com/baifan-wang/data_structures_and_algorithms_in_python/master/image/4-Binary_tree.array.png)\n",
    "\n",
    "2. 链接存储结构\n",
    "\n",
    "二叉树每个结点最多有两个孩子，设计一个数据域和两个指针域来储存，这样的链表叫做二叉链表。如下图设计了一个二叉树的节点类，每个节点包含有其父节点，左右子节点的连接，以及存储其中的数据。\n",
    "![image](https://raw.githubusercontent.com/baifan-wang/data_structures_and_algorithms_in_python/master/image/4-tree.representation.png)\n",
    "\n",
    "遍历二叉树：二叉树的遍历（traversing binary tree）是指从根结点出发，按照某种次序依次访问二叉树中所有结点，使得每个结点被访问一次且仅被访问一次。 \n",
    "![image](https://raw.githubusercontent.com/baifan-wang/data_structures_and_algorithms_in_python/master/image/4-Binary_tree.png)    \n",
    "二叉树的主要遍历方式有四种：\n",
    "\n",
    "前根序遍历：根节点->左子树->右子树，得到的结点访问序列：    \n",
    "A B D C E G F H I    \n",
    "后根序遍历：左子树->右子树->根节点    \n",
    "D B G E H I F C A    \n",
    "中根序遍历：左子树->根节点->右子树    \n",
    "D B A E G C H F I    \n",
    "\n",
    "宽度优先遍历：就是逐层访问二叉树里的各结点    \n",
    "从树根（位于第0 层）开始逐层访问树结点；每层都从左到右逐个访问；实现算法是需要用一个队列缓存    \n",
    "A B C D E F G H I    \n",
    "\n",
    "二叉树的代码实现："
   ]
  },
  {
   "cell_type": "code",
   "execution_count": 18,
   "metadata": {
    "collapsed": true
   },
   "outputs": [],
   "source": [
    "\n",
    "class LinkedBinaryTree:\n",
    "\n",
    "    class _Node:\n",
    "        def __init__(self, element=None, parent=None, left=None, right=None):\n",
    "            self._element = element\n",
    "            self._parent = parent\n",
    "            self._left = left\n",
    "            self._right = right\n",
    "        def element(self):\n",
    "            return self._element\n",
    "\n",
    "    def __init__(self):\n",
    "        self._root = None\n",
    "        self._size = 0\n",
    "\n",
    "    def add_root(self, e):\n",
    "        if self._root is not None :\n",
    "            raise ValueError('Root exists!')\n",
    "        self._size = 1\n",
    "        self._root = self._Node(e)\n",
    "        return self._root\n",
    "\n",
    "    def add_left(self, p, e):\n",
    "        if p._left is not None:\n",
    "            raise ValueError('Left child exists!')\n",
    "        self._size +=1\n",
    "        p._left = self._Node(e, p)\n",
    "        return p._left\n",
    "\n",
    "    def add_right(self, p, e):\n",
    "        if p._right is not None:\n",
    "            raise ValueError('Right child exists!')\n",
    "        self._size +=1\n",
    "        p._right = self._Node(e, p)\n",
    "        return p._right\n",
    "\n",
    "    def __len__(self):\n",
    "        return self._size\n",
    "\n",
    "    def root(self):\n",
    "        return self._root\n",
    "\n",
    "    def is_root(self, p):\n",
    "        return p == self.root()\n",
    "\n",
    "    def is_leaf(self, p):\n",
    "        return self.num_chileren(p) == 0\n",
    "\n",
    "    def is_empty(self):\n",
    "        return len(self) == 0\n",
    "\n",
    "    def left(self, p):\n",
    "        return p._left\n",
    "\n",
    "    def right(self, p):\n",
    "        return p._right\n",
    "\n",
    "    def children(self, p):\n",
    "        if self.left(p) is not None:\n",
    "            yield self.left(p)\n",
    "        if self.right(p) is not None:\n",
    "            yield self.right(p)\n",
    "\n",
    "    def num_chileren(self, p):\n",
    "        count = 0\n",
    "        if p._left is not None:\n",
    "            count += 1\n",
    "        if p._right is not None:\n",
    "            count += 1\n",
    "        return count\n",
    "\n",
    "    def parent(self, p):\n",
    "        return p._parent\n",
    "\n",
    "    def sibling(self, p):\n",
    "        parent = self.parent(p)\n",
    "        if parent is None:\n",
    "            return None\n",
    "        else:\n",
    "            if p == self.left(parent):\n",
    "                return self.right(parent)\n",
    "            else:\n",
    "                return self.left(parent)\n",
    "\n",
    "    def depth(self, p):\n",
    "        if self.is_root(p):\n",
    "            return 0\n",
    "        else:\n",
    "            return 1 + self.depth(self.parent(p))\n",
    "\n",
    "    def height(self, p):\n",
    "        if self.is_leaf(p):\n",
    "            return 0\n",
    "        else:\n",
    "            return 1 + max(self._height(c) for c in self.children(p))\n",
    "\n",
    "    def replace(self, p, e):\n",
    "        old = p._element\n",
    "        p._element = e\n",
    "        return old\n",
    "\n",
    "    def delete(self, p):\n",
    "        if sels.num_chileren(p) ==2:\n",
    "            raise ValueError('p has 2 children')\n",
    "        child = p._left if p._left else p._right\n",
    "        if child is not None:\n",
    "            child._parent = p._parent\n",
    "        if p is self._root:\n",
    "            self._root = child\n",
    "        else:\n",
    "            parent = p._parent\n",
    "            if p is parent._left:\n",
    "                parent._left = child\n",
    "            else:\n",
    "                parent._right = child\n",
    "        self._size -= 1\n",
    "        p._parent = p\n",
    "        return p._element\n",
    "\n",
    "    def attach(self, p, t1, t2):\n",
    "        if not self.is_leaf(p):\n",
    "            raise ValueError('position must be leaf')\n",
    "        if not type(self) is type(t1) is type(t2):\n",
    "            raise TypeError('Tree types must match')\n",
    "        self._size += len(t1)+len(t2)\n",
    "        if not t1.is_empty():\n",
    "            t1._root._parent = p\n",
    "            p._left = t1._root\n",
    "            t1._root = None\n",
    "            t1._size = 0\n",
    "        if not t2.is_empty():\n",
    "            t2._root._parent = p\n",
    "            p._left = t2._root\n",
    "            t2._root = None\n",
    "            t2._size = 0\n",
    "    def inordor(self):\n",
    "        if not self.is_empty():\n",
    "            for p in self._subtree_inordor(self.root()):\n",
    "                yield p._element\n",
    "    def _subtree_inordor(self, p):\n",
    "        if self.left(p) is not None:\n",
    "            for other in self._subtree_inordor(self.left(p)):\n",
    "                yield other\n",
    "        yield p\n",
    "        if self.right(p) is not None:\n",
    "            for other in self._subtree_inordor(self.right(p)):\n",
    "                yield other\n",
    "    def __iter__(self):\n",
    "        return self.inordor()"
   ]
  },
  {
   "cell_type": "code",
   "execution_count": 19,
   "metadata": {},
   "outputs": [
    {
     "name": "stdout",
     "output_type": "stream",
     "text": [
      "1\n"
     ]
    }
   ],
   "source": [
    "T = LinkedBinaryTree()\n",
    "T.add_root(1)\n",
    "T.add_left(T.root(),2)\n",
    "T.add_right(T.root(),3)\n",
    "print(T.root().element())"
   ]
  },
  {
   "cell_type": "code",
   "execution_count": 20,
   "metadata": {},
   "outputs": [
    {
     "name": "stdout",
     "output_type": "stream",
     "text": [
      "2\n",
      "2\n",
      "3\n",
      "2 1 3 "
     ]
    }
   ],
   "source": [
    "print(T.left(T.root()).element())\n"
   ]
  },
  {
   "cell_type": "code",
   "execution_count": 21,
   "metadata": {},
   "outputs": [
    {
     "name": "stdout",
     "output_type": "stream",
     "text": [
      "2\n"
     ]
    }
   ],
   "source": [
    "print(T.num_chileren(T.root()))"
   ]
  },
  {
   "cell_type": "code",
   "execution_count": 22,
   "metadata": {},
   "outputs": [
    {
     "name": "stdout",
     "output_type": "stream",
     "text": [
      "3\n"
     ]
    }
   ],
   "source": [
    "print(len(T))"
   ]
  },
  {
   "cell_type": "code",
   "execution_count": 23,
   "metadata": {},
   "outputs": [
    {
     "name": "stdout",
     "output_type": "stream",
     "text": [
      "2 1 3 "
     ]
    }
   ],
   "source": [
    "for i in T:\n",
    "    print(i, end = ' ')"
   ]
  },
  {
   "cell_type": "markdown",
   "metadata": {},
   "source": [
    "参考文献:\n",
    "1. Goodrich M T, Tamassia R, Goldwasser M H. Data structures and algorithms in Python[M]. John Wiley & Sons Ltd, 2013.\n",
    "2. 裘宗燕. 数据结构与算法: Python语言描述. 机械工业出版社, 2016.\n",
    "3. https://en.wikipedia.org/wiki/Binary_tree"
   ]
  }
 ],
 "metadata": {
  "kernelspec": {
   "display_name": "Python 3",
   "language": "python",
   "name": "python3"
  },
  "language_info": {
   "codemirror_mode": {
    "name": "ipython",
    "version": 3
   },
   "file_extension": ".py",
   "mimetype": "text/x-python",
   "name": "python",
   "nbconvert_exporter": "python",
   "pygments_lexer": "ipython3",
   "version": "3.6.1"
  }
 },
 "nbformat": 4,
 "nbformat_minor": 2
}
