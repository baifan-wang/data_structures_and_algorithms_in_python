{
 "cells": [
  {
   "cell_type": "markdown",
   "metadata": {},
   "source": [
    "# 栈（stack）\n",
    "栈（stack）和队列（queue）是两种使用最广泛的数据结构，它们都是保存数据元素的容器，可以将元素存入其中，或者从中取出元素使用（查看，或弹出，即在取得元素的同时将其从容器里删除）。栈最显著的特征是LIFO (Last In, First Out, 后进先出)。比如当我们在洗盘子的时候，先洗完的盘子放在下面，后洗完的盘子堆在上面。当我们取一叠盘子的时候，总是从最上面开始拿（后洗的盘子）。    \n",
    "![image](https://raw.githubusercontent.com/baifan-wang/data_structures_and_algorithms_in_python/master/image/2-Lifo_stack.png)\n",
    "\n",
    "栈的基本操作通常包括：    \n",
    "\t创建空栈    \n",
    "\t判断栈是否为空（还可能需要判断满），is_empty()   \n",
    "\t向栈中插入（通常称推入/压入，push）一个元素，push(...)    \n",
    "\t从栈中删除（弹出，pop）一个元素，空栈弹出报错，pop()    \n",
    "\t取当前（最新）元素的值（并不删除），top()    \n",
    "\n",
    "用线性表的技术实现栈时，由于只需要在一端操作，自然应该利用实现最方便而且能保证两个主要操作的效率最高的那一端。\n",
    "\t采用连续表方式实现，在后端插入删除都是O(1) 操作。    \n",
    "\t采用链接表方式实现，前端插入删除都是O(1) 操作    \n",
    "    \n",
    "使用python的列表来实现："
   ]
  },
  {
   "cell_type": "code",
   "execution_count": 9,
   "metadata": {
    "collapsed": true
   },
   "outputs": [],
   "source": [
    "class ArrayStack():\n",
    "    def __init__(self):\n",
    "        self._data = []   #使用列表来存储元素\n",
    "\n",
    "    def __len__(self):\n",
    "        return len(self._data)\n",
    "\n",
    "    def is_empty(self):\n",
    "        return len(self._data) == 0\n",
    "\n",
    "    def top(self):\n",
    "        if self.is_empty():\n",
    "            raise ValueError('Stack is Empty!')\n",
    "        return self._data[-1]\n",
    "\n",
    "    def pop(self):\n",
    "        if self.is_empty():\n",
    "            raise ValueError('Stack is Empty!')\n",
    "        return self._data.pop()\n",
    "\n",
    "    def push(self, e):\n",
    "        self._data.append(e)"
   ]
  },
  {
   "cell_type": "code",
   "execution_count": 10,
   "metadata": {},
   "outputs": [
    {
     "name": "stdout",
     "output_type": "stream",
     "text": [
      "9\n"
     ]
    }
   ],
   "source": [
    "s = ArrayStack()\n",
    "for i in range(10):\n",
    "    s.push(i)\n",
    "print(s.pop())"
   ]
  },
  {
   "cell_type": "code",
   "execution_count": 6,
   "metadata": {},
   "outputs": [
    {
     "name": "stdout",
     "output_type": "stream",
     "text": [
      "8\n"
     ]
    }
   ],
   "source": [
    "print(s.top())"
   ]
  },
  {
   "cell_type": "markdown",
   "metadata": {},
   "source": [
    "基于线性表的实现:"
   ]
  },
  {
   "cell_type": "code",
   "execution_count": 19,
   "metadata": {
    "collapsed": true
   },
   "outputs": [],
   "source": [
    "class LinkedStack:\n",
    "\n",
    "    class _Node:\n",
    "        def __init__(self, element, next):\n",
    "            self._elemnet = element\n",
    "            self._next = next\n",
    "\n",
    "    def __init__(self):\n",
    "        self._head = None\n",
    "        self._size = 0\n",
    "\n",
    "    def __len__(self):\n",
    "        return self._size\n",
    "\n",
    "    def is_empty(self):\n",
    "        return self._size == 0\n",
    "\n",
    "    def push(self, e):\n",
    "        self._head = self._Node(e, self._head)\n",
    "        self._size += 1\n",
    "\n",
    "    def top(self):\n",
    "        if self.is_empty():\n",
    "            raise ValueError('Stack is empty!')\n",
    "        return self._head._elemnet\n",
    "\n",
    "    def pop(self):\n",
    "        if self.is_empty():\n",
    "            raise ValueError('Stack is empty!')\n",
    "        answer = self._head._elemnet\n",
    "        self._head = self._head._next\n",
    "        self._size -= 1\n",
    "        return answer"
   ]
  },
  {
   "cell_type": "markdown",
   "metadata": {},
   "source": [
    "栈是算法和程序里最常用的辅助结构，基本用途基于两个方面：    \n",
    "1. 用栈可以很方便地保存和取用信息，因此常作为算法或程序里的辅助存储结构，临时保存信息，供后面操作中使用    \n",
    "2. 利用栈后进先出的特点，可以得到特定的存储和取用顺序，许多实际运用结合了这两方面的特性   \n",
    "\n",
    "\n",
    "具体应用：    \n",
    "反转文件（序列等）    \n",
    "栈可以用于颠倒一组元素的顺序：将一组元素依次全部存入后取出，得到反序的序列    \n",
    "代码实现："
   ]
  },
  {
   "cell_type": "code",
   "execution_count": 15,
   "metadata": {
    "collapsed": true
   },
   "outputs": [],
   "source": [
    "def reverse_file(oldfile, newfile):\n",
    "    S = ArrrayStack()\n",
    "    lines = open(oldfile)\n",
    "    for line in lines:\n",
    "        S.push(line.strip('\\n'))\n",
    "    with open(newfile, 'w') as f:\n",
    "        while not S.is_empty():\n",
    "            f.write(S.pop() + '\\n')"
   ]
  },
  {
   "cell_type": "markdown",
   "metadata": {},
   "source": [
    "括号匹配    \n",
    "在许多正文中都有括号，特别是在代码、数学表达式里。括号有正确配对问题。例如在python代码里存在不同的括号，如圆括号、方括号和花括号。每种括号都有开括号和闭括号，括号括起的片段可能相互嵌套，各种括号需要分别正确嵌套配对。\n",
    "配对的原则：\n",
    "1. 遇到的闭括号应该匹配此前遇到的最近的尚未匹配的对应开括号\n",
    "2. 由于多种/多次/可能嵌套，为检查配对，遇到的开括号必须保存\n",
    "3. 由于括号可能嵌套，需要逐对匹配，闭括号应与前面最近的尚未有匹配的开括号匹配，后面括号应与更前面次近的括号匹配\n",
    "4. 可以删除匹配的括号，为后面的匹配做好准备\n",
    "5. 后遇到并保存的开括号应该先删除，这就是后进先出，而且要按照出现顺序，显然可以用一个栈保存开括号\n",
    "具体操作过程则为：\n",
    "1. 顺序检查所考虑的正文（一个字符串）里的一个个字符\n",
    "2. 遇到开括号时将其压入一个栈\n",
    "3. 遇到闭括号时弹出栈顶元素与之匹配\n",
    "4. 匹配则继续；遇到不匹配时检查以失败结束\n",
    "代码实现："
   ]
  },
  {
   "cell_type": "code",
   "execution_count": 22,
   "metadata": {},
   "outputs": [
    {
     "data": {
      "text/plain": [
       "False"
      ]
     },
     "execution_count": 22,
     "metadata": {},
     "output_type": "execute_result"
    }
   ],
   "source": [
    "def parentheses_match(expr):\n",
    "    lefty = '([{'\n",
    "    match = {')':'(', ']':'[', '}':'{'}\n",
    "    S = LinkedStack()\n",
    "    for c in expr:\n",
    "        if c in lefty:\n",
    "            S.push(c)\n",
    "        elif c in match:\n",
    "            if S.is_empty():\n",
    "                return False\n",
    "            if match[c] != S.pop():\n",
    "                return False\n",
    "    return S.is_empty()\n",
    "parentheses_match('((([[])))')"
   ]
  },
  {
   "cell_type": "code",
   "execution_count": 23,
   "metadata": {},
   "outputs": [
    {
     "data": {
      "text/plain": [
       "True"
      ]
     },
     "execution_count": 23,
     "metadata": {},
     "output_type": "execute_result"
    }
   ],
   "source": [
    "parentheses_match('((([[]])))')"
   ]
  },
  {
   "cell_type": "markdown",
   "metadata": {},
   "source": [
    "参考文献:\n",
    "1. Goodrich M T, Tamassia R, Goldwasser M H. Data structures and algorithms in Python[M]. John Wiley & Sons Ltd, 2013.\n",
    "2. 裘宗燕. 数据结构与算法: Python语言描述. 机械工业出版社, 2016.\n",
    "3. https://en.wikipedia.org/wiki/Stack_(abstract_data_type)"
   ]
  }
 ],
 "metadata": {
  "kernelspec": {
   "display_name": "Python 3",
   "language": "python",
   "name": "python3"
  },
  "language_info": {
   "codemirror_mode": {
    "name": "ipython",
    "version": 3
   },
   "file_extension": ".py",
   "mimetype": "text/x-python",
   "name": "python",
   "nbconvert_exporter": "python",
   "pygments_lexer": "ipython3",
   "version": "3.6.1"
  }
 },
 "nbformat": 4,
 "nbformat_minor": 2
}
