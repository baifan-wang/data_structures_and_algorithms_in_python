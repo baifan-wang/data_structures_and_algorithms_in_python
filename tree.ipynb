{
 "cells": [
  {
   "cell_type": "markdown",
   "metadata": {},
   "source": [
    "# 树(tree)\n",
    "\n",
    "树用来模拟具有树状结构性质的数据集合。它是由n（n>=0）个有限节点组成一个具有层次关系的集合。树有多个节点(node)，用以储存元素。某些节点之间存在一定的关系，用连线表示，连线称为边(edge)。边的上端节点称为父节点，下端称为子节点。树像是一个不断分叉的树根。 \n",
    "![image](https://raw.githubusercontent.com/baifan-wang/data_structures_and_algorithms_in_python/master/image/4-Binary_tree.svg.png)\n",
    "树的定义即为：\n",
    "1. 树是元素的集合;\n",
    "2. 该集合可以为空。这时树中没有元素，我们称树为空树 (empty tree);\n",
    "3. 如果该集合不为空，那么该集合有一个根节点，以及0个或者多个子树。根节点与它的子树的根节点用一个边(edge)相连。\n",
    "\n",
    "上面的第三点是以递归的方式来定义树，也就是在定义树的过程中使用了树自身(子树)。由于树的递归特征，许多树相关的操作也可以方便的使用递归实现。\n",
    "\n",
    "树中每个节点可以有多个子节点(children)，而该节点是其子节点的父节点(parent)。比如说，7, 5是2的子节点，6是5, 11的父节点。树有一个没有父节点的节点，称为根节点(root)，如图中的6。没有子节点的节点称为叶节点(leaf)，比如图中的1,8,9,5节点。从图中还可以看到，上面的树总共有4个层次，2位于第0层，5,11和4位于第3层。树中节点的最大层次被称为深度。也就是说，该树的深度(depth)为4。拥有同一父节点的两个节点互为兄弟节点(sibling)。\n",
    "\n",
    "树具有以下的特点：    \n",
    "1. 每个节点有零个或多个子节点；    \n",
    "2. 没有父节点的节点称为根节点；     \n",
    "3. 每一个非根节点有且只有一个父节点；    \n",
    "4. 除了根节点外，每个子节点可以分为多个不相交的子树；  \n",
    "\n",
    "术语:\n",
    "1. 节点的度：一个节点含有的子树的个数称为该节点的度；\n",
    "2. 树的度：一棵树中，最大的节点的度称为树的度；\n",
    "3. 叶节点或终端节点：度为零的节点；\n",
    "4. 非终端节点或分支节点：度不为零的节点；\n",
    "5. 父节点：若一个节点含有子节点，则这个节点称为其子节点的父节点；\n",
    "6. 子节点：一个节点含有的子树的根节点称为该节点的子节点；\n",
    "7. 兄弟节点：具有相同父节点的节点互称为兄弟节点；\n",
    "8. 节点的层次：从根开始定义起，根为第1层，根的子节点为第2层，以此类推；\n",
    "9. 树的高度或深度：树中节点的最大层次；\n",
    "10. 兄弟节点：父节点在同一层的节点互为堂兄弟；\n",
    "11. 节点的祖先：从根到该节点所经分支上的所有节点；\n",
    "12. 子孙：以某节点为根的子树中任一节点都称为该节点的子孙。\n",
    "13. 森林：由m（m>=0）棵互不相交的树的集合称为森林；\n",
    "\n",
    "树的抽象数据类型（ADT）：     \n",
    "        T.root(): 返回树的根或者None     \n",
    "        T.is_root(p): 验证p是否为root    \n",
    "        T.parent(p): 返回p的父节点，root节点则为None     \n",
    "        T.num_chileren(p): 返回p节点子节点的数目      \n",
    "        T.children(p): 生成p的子节点的迭代器     \n",
    "        T.is_leaf(p): 验证p是否为叶节点      \n",
    "        len(T): 返回T的长度     \n",
    "        T.is_empty(): 验证T是否为空     \n",
    "        iter(T): T的所以元素的迭代器。 可以实现for...in..操作。     \n",
    "        T.depth(p): p的深度     \n",
    "        T.height(p): p的高度     \n",
    "\n",
    "树的实现方式。树包含一个节点类，每个节点包含有指向父节点，子节点的指针，并在节点内存储元素。当然，必须考虑树的子节点数目。如果子节点数目是不确定的。一个父节点可能有大量的子节点，而另一个父节点可能只有一个子节点，而树的增删节点操作会让子节点的数目发生进一步的变化。这种不确定性就可能带来大量的内存相关操作，并且容易造成内存的浪费。    \n",
    "\n",
    "树的两个重要性质的计算：\n",
    "树的深度\n",
    "1. 树根到结点的路径长度是该结点的深度\n",
    "2. 结点都有层数，根所在的深度为0，子结点的深度数比其父结点大1\n",
    "树的高度\n",
    "1. 树的高度是树中结点的最长路径的长度加1\n",
    "2. 是树的整体性质，空树高度为0，只有根结点的树高度为1\n",
    "由于树是递归结构，因而很容易使用递归来进行操作："
   ]
  },
  {
   "cell_type": "code",
   "execution_count": 1,
   "metadata": {
    "collapsed": true
   },
   "outputs": [],
   "source": [
    "def depth(self, p):  #根节点深度为0。p的深度就是他的父节点深度加1:  1+T.depth(p.parent)\n",
    "    if self.is_root(p):\n",
    "        return 0\n",
    "    else:\n",
    "        return 1 + self.depth(self.parent(p))\n",
    "\n",
    "def height(self, p): #叶子的高度为0.。p的高度就是他的子节点最大高度加1: 1+max(T.heiget(p.children))\n",
    "    if self.is_leaf(p):\n",
    "        return 0\n",
    "    else:\n",
    "        return 1 + max(self._height(c) for c in self.children(p))"
   ]
  },
  {
   "cell_type": "markdown",
   "metadata": {},
   "source": [
    "参考文献:\n",
    "1. Goodrich M T, Tamassia R, Goldwasser M H. Data structures and algorithms in Python[M]. John Wiley & Sons Ltd, 2013.\n",
    "2. 裘宗燕. 数据结构与算法: Python语言描述. 机械工业出版社, 2016.\n",
    "3. https://en.wikipedia.org/wiki/Tree_(data_structure)"
   ]
  }
 ],
 "metadata": {
  "kernelspec": {
   "display_name": "Python 3",
   "language": "python",
   "name": "python3"
  },
  "language_info": {
   "codemirror_mode": {
    "name": "ipython",
    "version": 3
   },
   "file_extension": ".py",
   "mimetype": "text/x-python",
   "name": "python",
   "nbconvert_exporter": "python",
   "pygments_lexer": "ipython3",
   "version": "3.6.1"
  }
 },
 "nbformat": 4,
 "nbformat_minor": 2
}
