{
 "cells": [
  {
   "cell_type": "markdown",
   "metadata": {},
   "source": [
    "# 伸展树(splay tree)\n",
    "\n",
    "    伸展树（英语：Splay Tree）是一种二叉查找树，它能在O(log n)内完成插入、查找和删除操作。它是由丹尼尔·斯立特（Daniel Sleator）和罗伯特·塔扬在1985年发明。假设想要对一个二叉查找树执行一系列的查找操作，为了使整个查找时间更小，被查频率高的那些条目就应当经常处于靠近树根的位置。于是想到设计一个简单方法， 在每次查找之后对树进行调整，把被查找的条目搬移到离树根近一些的地方。伸展树应运而生。伸展树是一种自调整形式的二叉查找树，它会沿着从某个节点到树根之间的路径，通过一系列的旋转把这个节点搬移到树根去。它的优势在于不需要记录用于平衡树的冗余信息。\n",
    "\n",
    "    具体来说，在查询到目标节点后，伸展树会不断进行下面三种操作中的一个，直到目标节点成为根节点。\n",
    "\n",
    "    zig: 当目标节点是根节点的左子节点或右子节点时，进行一次单旋转，将目标节点调整到根节点的位置。\n",
    "![image](https://raw.githubusercontent.com/baifan-wang/data_structures_and_algorithms_in_python/master/image/7-searchtree_splay1.png)\n",
    "\n",
    "    zig-zag: 当目标节点、父节点和祖父节点成\"zig-zag\"构型时，进行一次双旋转，将目标节点调整到祖父节点的位置。\n",
    "![image](https://raw.githubusercontent.com/baifan-wang/data_structures_and_algorithms_in_python/master/image/7-searchtree_splay2.png)\n",
    "\n",
    "    zig-zig：当目标节点、父节点和祖父节点成\"zig-zig\"构型时，进行一次zig-zig操作，将目标节点调整到祖父节点的位置。\n",
    "![image](https://raw.githubusercontent.com/baifan-wang/data_structures_and_algorithms_in_python/master/image/7-searchtree_splay3.png)        \n",
    "    \n",
    "    伸展树的好处是将最近搜索的节点放在最容易搜索的根节点的位置。在许多应用环境中，比如网络应用中，某些固定内容会被大量重复访问。伸展树可以让这种重复搜索以很高的效率完成。    \n",
    "    下图展示了在伸展树中插入（访问）一个节点的过程：\n",
    "![image](https://raw.githubusercontent.com/baifan-wang/data_structures_and_algorithms_in_python/master/image/7-searchtree_splay4.png)    \n",
    "\n",
    "    伸展树的zig，zig-zig和zig-zag相当于AVL树的单旋转操作和双旋转操作。\n",
    "    具体如以下代码：\n"
   ]
  },
  {
   "cell_type": "code",
   "execution_count": 3,
   "metadata": {},
   "outputs": [],
   "source": [
    "class SplayTreeMap():\n",
    "\n",
    "    def splay(self, p):\n",
    "        while p != self.root:\n",
    "            parent = self.parent(p)\n",
    "            grand = self.parent(parent)\n",
    "            if grand is None: #相当于zig\n",
    "                self. rotate(p)\n",
    "            elif (parent == self.left(grand)) == (p == self.left(parent)):\n",
    "            # 相当于zig-zig\n",
    "                self. rotate(parent) # move PARENT up\n",
    "                self. rotate(p) # then move p up\n",
    "            else:\n",
    "                # 相当于zig-zag\n",
    "                self. rotate(p) # move p up\n",
    "                self. rotate(p) # move p up again"
   ]
  },
  {
   "cell_type": "markdown",
   "metadata": {},
   "source": [
    "注意在伸展树的查询，更新操作时，都必须进行splay操作。\n",
    "参考文献:\n",
    "1. Goodrich M T, Tamassia R, Goldwasser M H. Data structures and algorithms in Python[M]. John Wiley & Sons Ltd, 2013.\n",
    "2. 裘宗燕. 数据结构与算法: Python语言描述. 机械工业出版社, 2016.\n",
    "3. https://zh.wikipedia.org/wiki/%E4%BC%B8%E5%B1%95%E6%A0%91"
   ]
  }
 ],
 "metadata": {
  "kernelspec": {
   "display_name": "Python 3",
   "language": "python",
   "name": "python3"
  },
  "language_info": {
   "codemirror_mode": {
    "name": "ipython",
    "version": 3
   },
   "file_extension": ".py",
   "mimetype": "text/x-python",
   "name": "python",
   "nbconvert_exporter": "python",
   "pygments_lexer": "ipython3",
   "version": "3.6.1"
  }
 },
 "nbformat": 4,
 "nbformat_minor": 2
}
