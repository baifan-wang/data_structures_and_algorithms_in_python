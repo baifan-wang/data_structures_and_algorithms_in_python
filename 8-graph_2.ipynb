{
 "cells": [
  {
   "cell_type": "markdown",
   "metadata": {},
   "source": [
    "# 图的遍历\n",
    "    \n",
    "遍历：按某种方式系统访问图中所有顶点且每个顶点仅访问一次的过程也称为图的周游。前面讨论的状态空间中的状态和相邻关系就形成了一个图，图的遍历对应于一次穷尽的状态空间搜索。遍历的基本部分是访问一顶点所在连通分支（对有向图是该结点的可达    \n",
    "子图）的全部顶点。如果图不连通，还要考虑对其他部分的访问。    \n",
    "基本的图遍历方法同样是深度优先遍历和宽度优先遍历    \n",
    "    \n",
    "## 深度优先遍历\n",
    "也就是按照深度优先搜索（Depth-First Search）的方式遍历，做法是：    \n",
    "从指定顶点v 出发，先访问v（并将其标记为已访问）    \n",
    "从v 的未访问过的邻接顶点出发进行深度优先搜索（邻接顶点可能排一种顺序），直到与v 连通的所有顶点都已访问（递归）\n",
    "如果图中还存在未访问顶点，则选出一个未访问顶点，由它出发重复前述过程，直到图中所有顶点都已访问为止\n",
    "\n",
    "通过深度优先遍历顺序得到的顶点序列称为该图的深度优先搜索序列（ Depth-First-Search 序列），简称为DFS 序列\n",
    "对邻接点的不同访问顺序将得到不同的DFS 序列（不唯一）\n",
    "如果规定了图中各顶点的邻接点顺序，就确定了DFS 序列\n",
    "![image](https://raw.githubusercontent.com/baifan-wang/data_structures_and_algorithms_in_python/master/image/8-graph6.png)\n",
    "\n",
    "用途:\n",
    "\t构建某一点到另外一点的路径\n",
    "\t检测图是否联通: 比较图的顶点数目和由某一点出发，进行DFS搜索得到顶点数目是否一致\n",
    "\t获取图的生成树\n",
    "\t计算图的连接成分，生成树林，或者一棵树\n",
    "\t检测图中的回路，验证图是否有回路\n",
    "对于有向图\n",
    "\t计算两个顶点之间的直接路径\n",
    "\t计算从一个顶点s出发，是否能够到达一系列的顶点集合\n",
    "\t测试图是否是强连接\n",
    "\t检测图中的直接回路，验证图是否有回路\n",
    "\t计算图的传递闭包\n",
    "代码\n"
   ]
  },
  {
   "cell_type": "code",
   "execution_count": 1,
   "metadata": {
    "collapsed": true
   },
   "outputs": [],
   "source": [
    "def DFS(g, u, discoverd):\n",
    "    for e in g.incident_edges(u):\n",
    "        v = e.opposite(u)\n",
    "        if v not in discoverd:\n",
    "            discoverd[v] = e\n",
    "            DFS(g, v, discoverd)\n",
    "def construct_path(u, v, discoverd):  #produces an ordered list of vertices on the path from u to v\n",
    "    path = []\n",
    "    if v in discoverd:\n",
    "        path.append(v)\n",
    "        walk = v\n",
    "        while walk is not u:\n",
    "            e = discoverd[walk]\n",
    "            parent = e.opposite(walk)\n",
    "            path.append(parent)\n",
    "            walk = parent\n",
    "        path.reverse()\n",
    "    return path\n",
    "\n",
    "def DFS_complete(g):\n",
    "    forest = {}\n",
    "    for u in g.vertices():\n",
    "        if u not in forest:\n",
    "            forest[u] = None\n",
    "            DFS(g, u, forest)"
   ]
  },
  {
   "cell_type": "markdown",
   "metadata": {},
   "source": [
    "## 广度优先遍历\n",
    "通过广度优先搜索（Breadth-First Search）方式遍历，\n",
    "具体过程是：    \n",
    "从指定顶点v 出发，先访问v 并将其标记为已访问    \n",
    "依次访问v 的所有相邻顶点v1, v2, …, vm （可规定顺序），再依次访问与v1, v2, …, vm 邻接的所有未访问顶点，直到所有顶点都访问    \n",
    "如果图中还存在未访问顶点，则选择一个未访问顶点，由它出发进行广度优先搜索，直到所有顶点都已访问为止    \n",
    "通过广度优先遍历得到的顶点序列称为图中顶点的广度优先搜索序列（ Breadth-First Search 序列）或BFS序列    \n",
    "如果规定了图中个顶点的邻接点顺序，BFS 序列就确定了    \n",
    "![image](https://raw.githubusercontent.com/baifan-wang/data_structures_and_algorithms_in_python/master/image/8-graph7.png)\n",
    "代码"
   ]
  },
  {
   "cell_type": "code",
   "execution_count": 2,
   "metadata": {
    "collapsed": true
   },
   "outputs": [],
   "source": [
    "def BFS(g, s, discoverd):\n",
    "    level = [s]\n",
    "    while len(level)>0:\n",
    "        next_level = []\n",
    "        for u in level:\n",
    "            for e in g.incident_edges(u):\n",
    "                v = e.opposite(u)\n",
    "                if v not in discoverd:\n",
    "                    discoverd[v] = e\n",
    "                    next_level.append(v)\n",
    "        level = next_level"
   ]
  },
  {
   "cell_type": "markdown",
   "metadata": {},
   "source": [
    "## 生成树\n",
    "从连通无向图或强连通有向图G 的任一顶点v0 出发，或从有根有向图的根v0 出发，存在到图中其他各结点的路径    \n",
    "若G 有n 个顶点，必然可找到n-1 条边，其中包含了从v0 到其他所有结点的路径（容易通过数学归纳法证明）。这样n-1 条边（加上G 所有顶点）形成了G 的一个子图T    \n",
    "无向图G 的子图T 是一个最小连通子图（去掉任意一条边后不再连通）。n 个顶点n-1 条边的图成树形，因此称T 为G 的生成树。    \n",
    "对有向图的定义类似。图的生成树可能不唯一    \n",
    "性质：n 个顶点的连通图的生成树包含恰好n-1 条边    \n",
    "无向树就是连通的无环图。有向树中所有的边都位于从根到其他结点的（有方向的）路径上    \n",
    "非连通的无向图划分为一组连通分量，可以定义它们的生成树林n 个顶点m 个连通分量的图G 的生成森林恰好包含n-m 条边\n",
    "   \n",
    "从连通无向图或强连通有向图中任一顶点出发遍历，或从有根有向图的根顶点出发遍历，都可以访问到所有顶点    \n",
    "遍历经过的边加上所有顶点，就构成该图的一棵生成树    \n",
    "构造生成树的过程可以按深度优先遍历或广度优先遍历     \n",
    "遍历中记录访问的所有顶点和经过的边，就得到深度优先生成树，或广度优先生成树，简称为DFS 生成树或BFS 生成树    "
   ]
  },
  {
   "cell_type": "markdown",
   "metadata": {},
   "source": [
    "参考文献:\n",
    "1. Goodrich M T, Tamassia R, Goldwasser M H. Data structures and algorithms in Python[M]. John Wiley & Sons Ltd, 2013.\n",
    "2. 裘宗燕. 数据结构与算法: Python语言描述. 机械工业出版社, 2016.\n",
    "3. https://zh.wikipedia.org/wiki/%E5%9B%BE_(%E6%95%B0%E5%AD%A6)"
   ]
  }
 ],
 "metadata": {
  "kernelspec": {
   "display_name": "Python 3",
   "language": "python",
   "name": "python3"
  },
  "language_info": {
   "codemirror_mode": {
    "name": "ipython",
    "version": 3
   },
   "file_extension": ".py",
   "mimetype": "text/x-python",
   "name": "python",
   "nbconvert_exporter": "python",
   "pygments_lexer": "ipython3",
   "version": "3.6.1"
  }
 },
 "nbformat": 4,
 "nbformat_minor": 2
}
