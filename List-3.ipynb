{
 "cells": [
  {
   "cell_type": "markdown",
   "metadata": {},
   "source": [
    "# 线性表（3）"
   ]
  },
  {
   "cell_type": "markdown",
   "metadata": {},
   "source": [
    "链表有多种变种。上一节的表中，指针指向是从前向后的，称为单向链表(Singly Linked List)。还有循环链表(Circularly Linked List)，最后一个元素的指针并不为None，而是指向头节点，如下图：\n",
    "\n",
    "![image](https://raw.githubusercontent.com/baifan-wang/data_structures_and_algorithms_in_python/master/image/1-list-3.png)\n",
    "\n",
    "在循环链表中，首节点和尾节点相连，没有头指针，只有尾指针self.tail，指向最后一个元素。这样第一个元素就是self.tail.next。\n",
    "操作：\n",
    "    插入节点:   \n",
    "    头部插入: \n",
    "        相当于在头尾之间插入节点，新节点的next指向头部节点self.tail.next，self.tail.next指针再指向新节点，最后设置self.tail指向新节点；当列表为空的时候，插入节点时，将self.tail指向自身。\n",
    "    删除节点:   \n",
    "        删除尾部节点: 将self.tail指针指向self.tail.next 。  \n",
    "    旋转操作（即指定新的尾节点）:  \n",
    "        将self.tail指针往后移动，self.tail = self.tail.next。  \n",
    "代码实现："
   ]
  },
  {
   "cell_type": "code",
   "execution_count": 4,
   "metadata": {},
   "outputs": [],
   "source": [
    "class Empty(Exception):\n",
    "    '''定义一个继承自Exception的Empty类，当链表为空时，访问其中元素就抛出这个异常.'''\n",
    "    pass\n",
    "\n",
    "class CircularLinkedList:\n",
    "\n",
    "    class _Node:\n",
    "        def __init__(self, element=None, next_=None): \n",
    "            self._element = element\n",
    "            self._next = next_\n",
    "\n",
    "    def __init__(self):\n",
    "        self._tail = None \n",
    "        self._size = 0       # 列表中元素的数目\n",
    "\n",
    "    def __len__(self):\n",
    "        return self._size\n",
    "\n",
    "    def is_empty(self):\n",
    "        return self._size == 0\n",
    "\n",
    "    def first(self):\n",
    "        if self.is_empty():\n",
    "            raise Empty('List is empty')\n",
    "        head = self._tail._next\n",
    "        return head._element\n",
    "\n",
    "    def pop(self):    #弹出列表的第一个节点，并返回其值\n",
    "        if self.is_empty():\n",
    "            raise Empty('in pop')\n",
    "        oldhead = self._tail._next\n",
    "        if self._size == 1: \n",
    "            self._tail = None # 直接将尾节点指向None，python解释器自动回收内存\n",
    "        else:\n",
    "            self._tail._next = oldhead._next\n",
    "            self._size -= 1\n",
    "        return oldhead._element\n",
    "\n",
    "    def append(self, e):   #在列表后面加入一个新节点\n",
    "        newest = self._Node(e, None) \n",
    "        if self.is_empty():\n",
    "            newest._next = newest              # 只有一个节点的时候，将节点的next引用指向自身。\n",
    "        else:\n",
    "            newest._next = self._tail._next # 新节点的next指向首节点\n",
    "            self._tail._next = newest          # 原来的尾节点的next指向插入的节点\n",
    "        self._tail = newest                       # 插入的节点就成为新的尾节点\n",
    "        self._size += 1\n",
    "\n",
    "    def rotate(self, offset=1):   #旋转列表，根据offset来指定旋转的步数,不过这个是一个单向循环的链表，只能往逆时针方向旋转。(tail->head)\n",
    "        if self.is_empty():\n",
    "            raise Empty('in pop')\n",
    "        for i in range(offset):\n",
    "                self._tail = self._tail._next"
   ]
  },
  {
   "cell_type": "markdown",
   "metadata": {},
   "source": [
    "以及双向链表(double-linked list)，即每个节点增加一个指向前面一个元素的指针:\n",
    "![image](https://raw.githubusercontent.com/baifan-wang/data_structures_and_algorithms_in_python/master/image/1-list-4.png)\n",
    "在双向列表中，节点同时具有指向前一个和下一个的引用。这样从任一结点出发，可以直接找到前后的相邻结点。而对单链表，找后面一个结点很方便，而找前一结点就必须从表头开始逐一检查。\n",
    "实现双向列表时，可以考虑设置两个哨兵节点，分别作为头部和尾部节点，并不储存数据，这样删除节点时不必考虑首尾节点的问题。插入和删除节点时，注意设置前后节点的引用。"
   ]
  },
  {
   "cell_type": "markdown",
   "metadata": {},
   "source": [
    "参考文献:\n",
    "1. Goodrich M T, Tamassia R, Goldwasser M H. Data structures and algorithms in Python[M]. John Wiley & Sons Ltd, 2013.\n",
    "2. 裘宗燕. 数据结构与算法: Python语言描述. 机械工业出版社, 2016."
   ]
  }
 ],
 "metadata": {
  "kernelspec": {
   "display_name": "Python 3",
   "language": "python",
   "name": "python3"
  },
  "language_info": {
   "codemirror_mode": {
    "name": "ipython",
    "version": 3
   },
   "file_extension": ".py",
   "mimetype": "text/x-python",
   "name": "python",
   "nbconvert_exporter": "python",
   "pygments_lexer": "ipython3",
   "version": "3.6.1"
  }
 },
 "nbformat": 4,
 "nbformat_minor": 2
}
